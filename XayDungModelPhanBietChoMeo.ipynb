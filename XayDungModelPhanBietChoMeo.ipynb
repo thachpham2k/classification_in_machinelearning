{
  "nbformat": 4,
  "nbformat_minor": 0,
  "metadata": {
    "colab": {
      "provenance": [],
      "collapsed_sections": []
    },
    "kernelspec": {
      "name": "python3",
      "display_name": "Python 3"
    },
    "language_info": {
      "name": "python"
    },
    "accelerator": "GPU",
    "gpuClass": "standard"
  },
  "cells": [
    {
      "cell_type": "code",
      "source": [
        "from google.colab import drive\n",
        "drive.mount('/content/drive')"
      ],
      "metadata": {
        "colab": {
          "base_uri": "https://localhost:8080/"
        },
        "id": "8ND2aqKtEI2D",
        "outputId": "664fa531-29a4-489d-c48e-60363b64604f"
      },
      "execution_count": null,
      "outputs": [
        {
          "output_type": "stream",
          "name": "stdout",
          "text": [
            "Drive already mounted at /content/drive; to attempt to forcibly remount, call drive.mount(\"/content/drive\", force_remount=True).\n"
          ]
        }
      ]
    },
    {
      "cell_type": "markdown",
      "source": [
        "# Data"
      ],
      "metadata": {
        "id": "QGKRhoJSe0Gj"
      }
    },
    {
      "cell_type": "code",
      "execution_count": null,
      "metadata": {
        "id": "eV3ixS8Zed1K"
      },
      "outputs": [],
      "source": [
        "# !ls \"/content/drive/MyDrive/machine learning/\"\n",
        "# !unzip \"/content/drive/MyDrive/machine learning/phan_biet_cho_meo/FullData_Cats-Dogs.zip\" -d \"/content/drive/MyDrive/machine learning/phan_biet_cho_meo/\""
      ]
    },
    {
      "cell_type": "code",
      "source": [],
      "metadata": {
        "id": "bEJjyQnF7fGv"
      },
      "execution_count": null,
      "outputs": []
    },
    {
      "cell_type": "markdown",
      "source": [
        "# Import"
      ],
      "metadata": {
        "id": "6vt0k9psf66U"
      }
    },
    {
      "cell_type": "code",
      "source": [
        "import matplotlib.pyplot as plt\n",
        "import numpy as np\n",
        "import os\n",
        "import tensorflow as tf\n",
        "\n",
        "from tensorflow.keras.preprocessing import image_dataset_from_directory"
      ],
      "metadata": {
        "id": "iwf7mC9of-nh"
      },
      "execution_count": null,
      "outputs": []
    },
    {
      "cell_type": "markdown",
      "source": [
        "# Generate"
      ],
      "metadata": {
        "id": "RmjxBYDGgFLT"
      }
    },
    {
      "cell_type": "code",
      "source": [
        "PATH = '/content/drive/MyDrive/machine learning/phan_biet_cho_meo/cats_and_dog_large/'\n",
        "train_dir = os.path.join(PATH, 'train')\n",
        "validation_dir = os.path.join(PATH, 'validation')\n",
        "\n",
        "BATCH_SIZE = 128\n",
        "IMG_SIZE = (160, 160)\n",
        "BUFFER_SIZE = BATCH_SIZE*5\n",
        "\n",
        "train_dataset = image_dataset_from_directory(train_dir,\n",
        "                                             shuffle=True,\n",
        "                                             batch_size=BATCH_SIZE,\n",
        "                                             image_size=IMG_SIZE)\n",
        "\n",
        "validation_dataset = image_dataset_from_directory(validation_dir,\n",
        "                                                  shuffle=True,\n",
        "                                                  batch_size=BATCH_SIZE,\n",
        "                                                  image_size=IMG_SIZE)\n",
        "\n",
        "train_dataset = train_dataset.prefetch(buffer_size=BUFFER_SIZE)\n",
        "validation_dataset = validation_dataset.prefetch(buffer_size=BUFFER_SIZE)"
      ],
      "metadata": {
        "colab": {
          "base_uri": "https://localhost:8080/"
        },
        "id": "sBcmnNIZgJg8",
        "outputId": "81c68567-cb11-4fd6-e224-9e2a10f53312"
      },
      "execution_count": null,
      "outputs": [
        {
          "output_type": "stream",
          "name": "stdout",
          "text": [
            "Found 22000 files belonging to 2 classes.\n",
            "Found 3000 files belonging to 2 classes.\n"
          ]
        }
      ]
    },
    {
      "cell_type": "markdown",
      "source": [
        "# Code"
      ],
      "metadata": {
        "id": "78xt_KiDgPP8"
      }
    },
    {
      "cell_type": "code",
      "source": [
        "# Create the base model \n",
        "base_model = tf.keras.applications.VGG16(input_shape=(160,160,3),\n",
        "                                               include_top=False,\n",
        "                                               weights=\"imagenet\")\n",
        "\n",
        "# process data\n",
        "data_augmentation = tf.keras.Sequential([\n",
        "    tf.keras.layers.experimental.preprocessing.RandomFlip('horizontal'),\n",
        "    tf.keras.layers.experimental.preprocessing.RandomRotation(0.2),\n",
        "    tf.keras.layers.experimental.preprocessing.Rescaling(1./127.5, offset= -1)\n",
        "])\n",
        "\n",
        "# flattening\n",
        "flatten = tf.keras.layers.Flatten()\n",
        "\n",
        "# final layer\n",
        "prediction_layer = tf.keras.layers.Dense(1)\n",
        "\n",
        "# construct a new network\n",
        "inputs = tf.keras.Input(shape=(160, 160, 3))\n",
        "x = data_augmentation(inputs)\n",
        "x = base_model(x)\n",
        "x = flatten(x)\n",
        "outputs = prediction_layer(x)\n",
        "model = tf.keras.Model(inputs, outputs)\n",
        "\n",
        "len(model.trainable_variables)\n",
        "\n",
        "base_learning_rate = 0.0001\n",
        "model.compile(loss=tf.keras.losses.BinaryCrossentropy(from_logits=True),\n",
        "              optimizer = tf.keras.optimizers.Adam(lr=base_learning_rate/10),\n",
        "              metrics=['accuracy'])\n",
        "\n",
        "model_checkpoint_callback = tf.keras.callbacks.ModelCheckpoint(\n",
        "    filepath=PATH + \"bestModel.h5\",\n",
        "    monitor='val_accuracy',\n",
        "    mode='max',\n",
        "    save_best_only=True)\n",
        "\n",
        "history_fine = model.fit(train_dataset,\n",
        "                         epochs=50,\n",
        "                         validation_data=validation_dataset,\n",
        "                         callbacks=[model_checkpoint_callback])\n",
        "\n"
      ],
      "metadata": {
        "colab": {
          "base_uri": "https://localhost:8080/"
        },
        "id": "931h-w43gR37",
        "outputId": "599fbce7-8175-4cd4-fb91-027a0186295c"
      },
      "execution_count": null,
      "outputs": [
        {
          "output_type": "stream",
          "name": "stdout",
          "text": [
            "Epoch 1/50\n"
          ]
        },
        {
          "output_type": "stream",
          "name": "stderr",
          "text": [
            "/usr/local/lib/python3.7/dist-packages/keras/optimizer_v2/adam.py:105: UserWarning: The `lr` argument is deprecated, use `learning_rate` instead.\n",
            "  super(Adam, self).__init__(name, **kwargs)\n"
          ]
        },
        {
          "output_type": "stream",
          "name": "stdout",
          "text": [
            "172/172 [==============================] - 174s 994ms/step - loss: 0.2765 - accuracy: 0.8644 - val_loss: 0.1066 - val_accuracy: 0.9580\n",
            "Epoch 2/50\n",
            "172/172 [==============================] - 172s 976ms/step - loss: 0.1398 - accuracy: 0.9404 - val_loss: 0.0871 - val_accuracy: 0.9713\n",
            "Epoch 3/50\n",
            "172/172 [==============================] - 172s 976ms/step - loss: 0.1094 - accuracy: 0.9541 - val_loss: 0.0774 - val_accuracy: 0.9763\n",
            "Epoch 4/50\n",
            "172/172 [==============================] - 177s 1s/step - loss: 0.0916 - accuracy: 0.9604 - val_loss: 0.0819 - val_accuracy: 0.9777\n",
            "Epoch 5/50\n",
            "172/172 [==============================] - 172s 972ms/step - loss: 0.0802 - accuracy: 0.9672 - val_loss: 0.0572 - val_accuracy: 0.9800\n",
            "Epoch 6/50\n",
            "172/172 [==============================] - 175s 996ms/step - loss: 0.0722 - accuracy: 0.9693 - val_loss: 0.0566 - val_accuracy: 0.9817\n",
            "Epoch 7/50\n",
            "172/172 [==============================] - 671s 4s/step - loss: 0.0643 - accuracy: 0.9748 - val_loss: 0.0704 - val_accuracy: 0.9810\n",
            "Epoch 8/50\n",
            "172/172 [==============================] - 167s 951ms/step - loss: 0.0563 - accuracy: 0.9771 - val_loss: 0.0667 - val_accuracy: 0.9810\n",
            "Epoch 9/50\n",
            "172/172 [==============================] - 168s 957ms/step - loss: 0.0516 - accuracy: 0.9799 - val_loss: 0.0663 - val_accuracy: 0.9807\n",
            "Epoch 10/50\n",
            "172/172 [==============================] - 176s 1s/step - loss: 0.0490 - accuracy: 0.9808 - val_loss: 0.0541 - val_accuracy: 0.9833\n",
            "Epoch 11/50\n",
            "172/172 [==============================] - 171s 973ms/step - loss: 0.0431 - accuracy: 0.9828 - val_loss: 0.0506 - val_accuracy: 0.9847\n",
            "Epoch 12/50\n",
            "172/172 [==============================] - 169s 958ms/step - loss: 0.0434 - accuracy: 0.9825 - val_loss: 0.0599 - val_accuracy: 0.9830\n",
            "Epoch 13/50\n",
            "172/172 [==============================] - 168s 956ms/step - loss: 0.0387 - accuracy: 0.9841 - val_loss: 0.0576 - val_accuracy: 0.9830\n",
            "Epoch 14/50\n",
            "172/172 [==============================] - 168s 956ms/step - loss: 0.0373 - accuracy: 0.9856 - val_loss: 0.0499 - val_accuracy: 0.9810\n",
            "Epoch 15/50\n",
            "172/172 [==============================] - 168s 955ms/step - loss: 0.0349 - accuracy: 0.9861 - val_loss: 0.0663 - val_accuracy: 0.9823\n",
            "Epoch 16/50\n",
            "172/172 [==============================] - 168s 956ms/step - loss: 0.0318 - accuracy: 0.9878 - val_loss: 0.0555 - val_accuracy: 0.9830\n",
            "Epoch 17/50\n",
            "172/172 [==============================] - 168s 954ms/step - loss: 0.0290 - accuracy: 0.9892 - val_loss: 0.0521 - val_accuracy: 0.9840\n",
            "Epoch 18/50\n",
            "172/172 [==============================] - 168s 955ms/step - loss: 0.0262 - accuracy: 0.9896 - val_loss: 0.0529 - val_accuracy: 0.9837\n",
            "Epoch 19/50\n",
            "172/172 [==============================] - 171s 973ms/step - loss: 0.0273 - accuracy: 0.9903 - val_loss: 0.0565 - val_accuracy: 0.9850\n",
            "Epoch 20/50\n",
            "172/172 [==============================] - 168s 955ms/step - loss: 0.0270 - accuracy: 0.9892 - val_loss: 0.0560 - val_accuracy: 0.9847\n",
            "Epoch 21/50\n",
            "172/172 [==============================] - 173s 986ms/step - loss: 0.0203 - accuracy: 0.9924 - val_loss: 0.0510 - val_accuracy: 0.9857\n",
            "Epoch 22/50\n",
            "172/172 [==============================] - 168s 955ms/step - loss: 0.0189 - accuracy: 0.9933 - val_loss: 0.0794 - val_accuracy: 0.9830\n",
            "Epoch 23/50\n",
            "172/172 [==============================] - 169s 953ms/step - loss: 0.0246 - accuracy: 0.9905 - val_loss: 0.0485 - val_accuracy: 0.9853\n",
            "Epoch 24/50\n",
            "172/172 [==============================] - 167s 951ms/step - loss: 0.0174 - accuracy: 0.9940 - val_loss: 0.0672 - val_accuracy: 0.9843\n",
            "Epoch 25/50\n",
            "172/172 [==============================] - 168s 952ms/step - loss: 0.0150 - accuracy: 0.9948 - val_loss: 0.0572 - val_accuracy: 0.9837\n",
            "Epoch 26/50\n",
            "172/172 [==============================] - 167s 950ms/step - loss: 0.0159 - accuracy: 0.9939 - val_loss: 0.0610 - val_accuracy: 0.9850\n",
            "Epoch 27/50\n",
            "172/172 [==============================] - 168s 954ms/step - loss: 0.0153 - accuracy: 0.9947 - val_loss: 0.0808 - val_accuracy: 0.9833\n",
            "Epoch 28/50\n",
            "172/172 [==============================] - 167s 950ms/step - loss: 0.0126 - accuracy: 0.9960 - val_loss: 0.0802 - val_accuracy: 0.9830\n",
            "Epoch 29/50\n",
            "172/172 [==============================] - 167s 953ms/step - loss: 0.0145 - accuracy: 0.9950 - val_loss: 0.0943 - val_accuracy: 0.9800\n",
            "Epoch 30/50\n",
            "172/172 [==============================] - 168s 957ms/step - loss: 0.0117 - accuracy: 0.9956 - val_loss: 0.0716 - val_accuracy: 0.9843\n",
            "Epoch 31/50\n",
            "172/172 [==============================] - 168s 952ms/step - loss: 0.0117 - accuracy: 0.9963 - val_loss: 0.0697 - val_accuracy: 0.9820\n",
            "Epoch 32/50\n",
            "172/172 [==============================] - 167s 952ms/step - loss: 0.0125 - accuracy: 0.9953 - val_loss: 0.0560 - val_accuracy: 0.9820\n",
            "Epoch 33/50\n",
            "172/172 [==============================] - 167s 950ms/step - loss: 0.0092 - accuracy: 0.9968 - val_loss: 0.0639 - val_accuracy: 0.9837\n",
            "Epoch 34/50\n",
            "172/172 [==============================] - 168s 954ms/step - loss: 0.0170 - accuracy: 0.9932 - val_loss: 0.0718 - val_accuracy: 0.9837\n",
            "Epoch 35/50\n",
            "172/172 [==============================] - 167s 951ms/step - loss: 0.0097 - accuracy: 0.9968 - val_loss: 0.0700 - val_accuracy: 0.9840\n",
            "Epoch 36/50\n",
            "172/172 [==============================] - 167s 949ms/step - loss: 0.0075 - accuracy: 0.9975 - val_loss: 0.0742 - val_accuracy: 0.9810\n",
            "Epoch 37/50\n",
            "172/172 [==============================] - 167s 951ms/step - loss: 0.0120 - accuracy: 0.9956 - val_loss: 0.0642 - val_accuracy: 0.9850\n",
            "Epoch 38/50\n",
            "172/172 [==============================] - 167s 951ms/step - loss: 0.0098 - accuracy: 0.9966 - val_loss: 0.0666 - val_accuracy: 0.9850\n",
            "Epoch 39/50\n",
            "172/172 [==============================] - 177s 1s/step - loss: 0.0094 - accuracy: 0.9966 - val_loss: 0.0656 - val_accuracy: 0.9847\n",
            "Epoch 40/50\n",
            "172/172 [==============================] - 167s 951ms/step - loss: 0.0080 - accuracy: 0.9973 - val_loss: 0.0930 - val_accuracy: 0.9830\n",
            "Epoch 41/50\n",
            "172/172 [==============================] - 1206s 7s/step - loss: 0.0074 - accuracy: 0.9975 - val_loss: 0.0810 - val_accuracy: 0.9840\n",
            "Epoch 42/50\n",
            "172/172 [==============================] - 165s 944ms/step - loss: 0.0105 - accuracy: 0.9967 - val_loss: 0.0670 - val_accuracy: 0.9853\n",
            "Epoch 43/50\n",
            "172/172 [==============================] - 167s 950ms/step - loss: 0.0089 - accuracy: 0.9971 - val_loss: 0.0630 - val_accuracy: 0.9853\n",
            "Epoch 44/50\n",
            "172/172 [==============================] - 167s 949ms/step - loss: 0.0056 - accuracy: 0.9981 - val_loss: 0.0785 - val_accuracy: 0.9833\n",
            "Epoch 45/50\n",
            "172/172 [==============================] - 167s 949ms/step - loss: 0.0056 - accuracy: 0.9981 - val_loss: 0.0825 - val_accuracy: 0.9833\n",
            "Epoch 46/50\n",
            "172/172 [==============================] - 167s 949ms/step - loss: 0.0080 - accuracy: 0.9974 - val_loss: 0.1733 - val_accuracy: 0.9723\n",
            "Epoch 47/50\n",
            "172/172 [==============================] - 167s 951ms/step - loss: 0.0103 - accuracy: 0.9963 - val_loss: 0.0743 - val_accuracy: 0.9847\n",
            "Epoch 48/50\n",
            "172/172 [==============================] - 167s 948ms/step - loss: 0.0046 - accuracy: 0.9983 - val_loss: 0.0725 - val_accuracy: 0.9837\n",
            "Epoch 49/50\n",
            "172/172 [==============================] - 167s 949ms/step - loss: 0.0109 - accuracy: 0.9960 - val_loss: 0.0607 - val_accuracy: 0.9803\n",
            "Epoch 50/50\n",
            "172/172 [==============================] - 166s 945ms/step - loss: 0.0053 - accuracy: 0.9981 - val_loss: 0.0707 - val_accuracy: 0.9843\n"
          ]
        }
      ]
    },
    {
      "cell_type": "code",
      "source": [
        "plt.figure(figsize=(8, 8))\n",
        "plt.subplot(2, 1, 1)\n",
        "plt.plot(history_fine.history['accuracy'], label='Training Accuracy')\n",
        "plt.plot(history_fine.history['val_accuracy'], label='Validation Accuracy')\n",
        "plt.legend(loc='lower right')\n",
        "plt.title('Training and Validation Accuracy')\n",
        "\n",
        "plt.subplot(2, 1, 2)\n",
        "plt.plot(history_fine.history['loss'], label='Training Loss')\n",
        "plt.plot(history_fine.history['val_loss'], label='Validation Loss')\n",
        "plt.legend(loc='upper right')\n",
        "plt.title('Training and Validation Loss')\n",
        "plt.xlabel('epoch')\n",
        "plt.show()"
      ],
      "metadata": {
        "colab": {
          "base_uri": "https://localhost:8080/",
          "height": 513
        },
        "id": "O88eJ7bLq8Vx",
        "outputId": "ed165a73-f1ad-4f1a-d834-ee8e1a8854a8"
      },
      "execution_count": null,
      "outputs": [
        {
          "output_type": "display_data",
          "data": {
            "text/plain": [
              "<Figure size 576x576 with 2 Axes>"
            ],
            "image/png": "[encoded data removed]"
          },
          "metadata": {
            "needs_background": "light"
          }
        }
      ]
    },
    {
      "cell_type": "markdown",
      "source": [
        "# Load model"
      ],
      "metadata": {
        "id": "kk4XMsct7Y1g"
      }
    },
    {
      "cell_type": "code",
      "source": [
        "# from tensorflow.keras.models import load_model\n",
        "# savedModel=load_model('bestModel.h5')"
      ],
      "metadata": {
        "id": "Fq2V_oIu7gF_",
        "colab": {
          "base_uri": "https://localhost:8080/"
        },
        "outputId": "a2086ead-0693-4bfc-9ebb-5a84788e4deb"
      },
      "execution_count": null,
      "outputs": [
        {
          "output_type": "stream",
          "name": "stdout",
          "text": [
            "/bin/bash: lshw: command not found\n"
          ]
        }
      ]
    },
    {
      "cell_type": "code",
      "source": [],
      "metadata": {
        "id": "YAOCIHBIFozv"
      },
      "execution_count": null,
      "outputs": []
    }
  ]
}